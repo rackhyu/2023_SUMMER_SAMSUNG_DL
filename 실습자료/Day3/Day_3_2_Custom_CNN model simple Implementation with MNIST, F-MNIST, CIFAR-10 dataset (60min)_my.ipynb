{
  "cells": [
    {
      "cell_type": "markdown",
      "metadata": {
        "id": "4HSGfsctQW9p"
      },
      "source": [
        "# Day3_2 : Custom CNN model simple Implementation with MNIST, F-MNIST, CIFAR-10 dataset (60min)\n",
        "#### 이번 실습에서는 Pytorch의 모듈을 사용해 CNN 모델을 간단히 구현해보고 MNIST와 F-MNIST 데이터셋에 대해 학습 및 Inference를 해볼 계획입니다."
      ]
    },
    {
      "cell_type": "markdown",
      "metadata": {
        "id": "KZiTnjgAqSpI"
      },
      "source": [
        "## Example 1) Custom CNN 모델 구현 with MNIST dataset\n",
        "\n",
        "![image.png](http://drive.google.com/uc?id=1H49c97VyvGZBWrpKuQ_hf5Nro7lpbsGJ)"
      ]
    },
    {
      "cell_type": "code",
      "execution_count": 1,
      "metadata": {
        "id": "yPNlDJ7fcGW4"
      },
      "outputs": [],
      "source": [
        "# 패키지 import\n",
        "import torch\n",
        "import torch.nn as nn\n",
        "import torch.optim as optim\n",
        "import torch.nn.functional as F\n",
        "from torchvision import transforms, datasets, utils\n",
        "from torchsummary import summary\n",
        "\n",
        "import matplotlib.pyplot as plt\n",
        "import numpy as np"
      ]
    },
    {
      "cell_type": "code",
      "execution_count": 2,
      "metadata": {
        "id": "2yM8fPSy6eoY"
      },
      "outputs": [],
      "source": [
        "# DEVICE 설정\n",
        "USE_CUDA = torch.cuda.is_available()\n",
        "DEVICE = torch.device(\"cuda\" if USE_CUDA else \"cpu\")\n",
        "\n",
        "# Parameter 설정\n",
        "EPOCHS = 10\n",
        "BATCH_SIZE = 64\n",
        "LR = 0.0001\n",
        "\n",
        "# Transform 설정\n",
        "transform_MNIST = transforms.Compose([\n",
        "    transforms.ToTensor(),\n",
        "    transforms.Normalize((0.5,), (0.5,))# mean and std\n",
        "])"
      ]
    },
    {
      "cell_type": "markdown",
      "metadata": {
        "id": "BFt614RR2yBy"
      },
      "source": [
        "### Q. 입력 데이터를 normalize 해야 하는 이유?\n",
        "#### 1) 데이터가 가진 Feature의 스케일이 심하게 차이가 나는 경우 모델의 학습이 어려울 수 있음.\n",
        "#### 2) 입력 값이 매우 높으면 메모리뿐만 아니라 많은 계산 시간이 걸리고, 모델이 느리게 수렴\n",
        "![image.png](http://drive.google.com/uc?id=1zy7tVebn3LofaR-jCFL8cZfClre3Aa8g)"
      ]
    },
    {
      "cell_type": "code",
      "execution_count": 3,
      "metadata": {
        "colab": {
          "base_uri": "https://localhost:8080/"
        },
        "id": "Q4LvN-4p6zl0",
        "outputId": "8f536db0-6ba6-42ec-f966-0a45d1f6af27"
      },
      "outputs": [
        {
          "output_type": "stream",
          "name": "stdout",
          "text": [
            "Downloading http://yann.lecun.com/exdb/mnist/train-images-idx3-ubyte.gz\n",
            "Downloading http://yann.lecun.com/exdb/mnist/train-images-idx3-ubyte.gz to ../data/MNIST/raw/train-images-idx3-ubyte.gz\n"
          ]
        },
        {
          "output_type": "stream",
          "name": "stderr",
          "text": [
            "100%|██████████| 9912422/9912422 [00:00<00:00, 107163561.78it/s]\n"
          ]
        },
        {
          "output_type": "stream",
          "name": "stdout",
          "text": [
            "Extracting ../data/MNIST/raw/train-images-idx3-ubyte.gz to ../data/MNIST/raw\n",
            "\n",
            "Downloading http://yann.lecun.com/exdb/mnist/train-labels-idx1-ubyte.gz\n",
            "Downloading http://yann.lecun.com/exdb/mnist/train-labels-idx1-ubyte.gz to ../data/MNIST/raw/train-labels-idx1-ubyte.gz\n"
          ]
        },
        {
          "output_type": "stream",
          "name": "stderr",
          "text": [
            "100%|██████████| 28881/28881 [00:00<00:00, 85487433.89it/s]\n"
          ]
        },
        {
          "output_type": "stream",
          "name": "stdout",
          "text": [
            "Extracting ../data/MNIST/raw/train-labels-idx1-ubyte.gz to ../data/MNIST/raw\n",
            "\n",
            "Downloading http://yann.lecun.com/exdb/mnist/t10k-images-idx3-ubyte.gz\n",
            "Downloading http://yann.lecun.com/exdb/mnist/t10k-images-idx3-ubyte.gz to ../data/MNIST/raw/t10k-images-idx3-ubyte.gz\n"
          ]
        },
        {
          "output_type": "stream",
          "name": "stderr",
          "text": [
            "100%|██████████| 1648877/1648877 [00:00<00:00, 26109723.71it/s]\n"
          ]
        },
        {
          "output_type": "stream",
          "name": "stdout",
          "text": [
            "Extracting ../data/MNIST/raw/t10k-images-idx3-ubyte.gz to ../data/MNIST/raw\n",
            "\n",
            "Downloading http://yann.lecun.com/exdb/mnist/t10k-labels-idx1-ubyte.gz\n",
            "Downloading http://yann.lecun.com/exdb/mnist/t10k-labels-idx1-ubyte.gz to ../data/MNIST/raw/t10k-labels-idx1-ubyte.gz\n"
          ]
        },
        {
          "output_type": "stream",
          "name": "stderr",
          "text": [
            "100%|██████████| 4542/4542 [00:00<00:00, 17413646.04it/s]\n"
          ]
        },
        {
          "output_type": "stream",
          "name": "stdout",
          "text": [
            "Extracting ../data/MNIST/raw/t10k-labels-idx1-ubyte.gz to ../data/MNIST/raw\n",
            "\n"
          ]
        }
      ],
      "source": [
        "# Dataset 설정\n",
        "train_dataset = datasets.MNIST(root = '../data',\n",
        "                                         train = True,\n",
        "                                         download = True,\n",
        "                                         transform = transform_MNIST)\n",
        "\n",
        "test_dataset = datasets.MNIST(root = '../data',\n",
        "                                train = False,\n",
        "                                download = True,\n",
        "                                transform = transform_MNIST)\n",
        "\n",
        "train_loader = torch.utils.data.DataLoader(dataset = train_dataset,\n",
        "                                           batch_size = BATCH_SIZE,\n",
        "                                           shuffle=True)\n",
        "\n",
        "test_loader = torch.utils.data.DataLoader(dataset = test_dataset,\n",
        "                                           batch_size = BATCH_SIZE,\n",
        "                                           shuffle=True)"
      ]
    },
    {
      "cell_type": "markdown",
      "metadata": {
        "id": "LrFTVwneQR-H"
      },
      "source": [
        "![image.png](http://drive.google.com/uc?id=12reHf9xtapZrVBG4LlNbNGa37ZeFfUqk)\n",
        "![image.png](http://drive.google.com/uc?id=17DgT11woHwXACEGOfvkVd8pYmxRI7vQl)\n",
        "![image.png](http://drive.google.com/uc?id=1oa6tP92fzCgz_ARwJPcOj1m92b8P7SHW)\n",
        "\n",
        "\n",
        "valid padding: padding을 적용하지 않은 상태"
      ]
    },
    {
      "cell_type": "code",
      "execution_count": 5,
      "metadata": {
        "colab": {
          "base_uri": "https://localhost:8080/"
        },
        "id": "TfkKiLGosaMF",
        "outputId": "53c65c82-e601-4eb2-e94b-8635b3c687ab"
      },
      "outputs": [
        {
          "output_type": "stream",
          "name": "stdout",
          "text": [
            "----------------------------------------------------------------\n",
            "        Layer (type)               Output Shape         Param #\n",
            "================================================================\n",
            "            Conv2d-1           [-1, 10, 24, 24]             260\n",
            "              ReLU-2           [-1, 10, 24, 24]               0\n",
            "         MaxPool2d-3           [-1, 10, 12, 12]               0\n",
            "            Conv2d-4             [-1, 20, 8, 8]           5,020\n",
            "              ReLU-5             [-1, 20, 8, 8]               0\n",
            "         MaxPool2d-6             [-1, 20, 4, 4]               0\n",
            "            Linear-7                   [-1, 50]          16,050\n",
            "              ReLU-8                   [-1, 50]               0\n",
            "         Dropout2d-9                   [-1, 50]               0\n",
            "           Linear-10                   [-1, 10]             510\n",
            "================================================================\n",
            "Total params: 21,840\n",
            "Trainable params: 21,840\n",
            "Non-trainable params: 0\n",
            "----------------------------------------------------------------\n",
            "Input size (MB): 0.00\n",
            "Forward/backward pass size (MB): 0.12\n",
            "Params size (MB): 0.08\n",
            "Estimated Total Size (MB): 0.21\n",
            "----------------------------------------------------------------\n"
          ]
        },
        {
          "output_type": "stream",
          "name": "stderr",
          "text": [
            "/usr/local/lib/python3.10/dist-packages/torch/nn/functional.py:1331: UserWarning: dropout2d: Received a 2-D input to dropout2d, which is deprecated and will result in an error in a future release. To retain the behavior and silence this warning, please use dropout instead. Note that dropout2d exists to provide channel-wise dropout on inputs with 2 spatial dimensions, a channel dimension, and an optional batch dimension (i.e. 3D or 4D inputs).\n",
            "  warnings.warn(warn_msg)\n"
          ]
        }
      ],
      "source": [
        "# Model 구현\n",
        "class Custom_CNN(nn.Module):\n",
        "    def __init__(self):\n",
        "        super(Custom_CNN, self).__init__()\n",
        "        '''\n",
        "        super(Custom_CNN, self).__init__() 은 python 2.x 문법\n",
        "        super().__init__() 은 python 3.x 문법\n",
        "        --> 파이썬 3.x 에서는 2.x 버전의 문법도 함께 사용가능함.\n",
        "        --> 범용성을 위해서는 파이썬 2.x 버전의 문법을 사용 추천\n",
        "        Valid Padding: padding을 적용하지 않은 상태\n",
        "        '''\n",
        "        ########################################## Complete This Code~!\n",
        "\n",
        "        self.conv1 = nn.Conv2d(in_channels=1, out_channels=10, kernel_size=5, padding=0)\n",
        "        self.conv2 = nn.Conv2d(in_channels=10, out_channels=20, kernel_size=5, padding=0)\n",
        "\n",
        "        self.fc3 = nn.Linear(320, 50)\n",
        "        self.fc4 = nn.Linear(50, 10)\n",
        "\n",
        "        # maxpool, relu, dropout\n",
        "        self.maxpool = nn.MaxPool2d(2)\n",
        "        self.relu = nn.ReLU(inplace=True)\n",
        "        self.dropout = nn.Dropout2d(p=0.2)\n",
        "\n",
        "        ########################################## Complete This Code~!\n",
        "\n",
        "    def forward(self, x): #(1, 28, 28)\n",
        "        ########################################## Complete This Code~!\n",
        "\n",
        "        x = self.conv1(x)\n",
        "        x = self.relu(x)\n",
        "        x = self.maxpool(x)\n",
        "\n",
        "        x = self.conv2(x)\n",
        "        x = self.relu(x)\n",
        "        x = self.maxpool(x)\n",
        "\n",
        "        # flatten\n",
        "        x = x.view(-1, 320)\n",
        "\n",
        "        x = self.fc3(x)\n",
        "        x = self.relu(x)\n",
        "        x = self.dropout(x)\n",
        "\n",
        "        x = self.fc4(x)\n",
        "\n",
        "\n",
        "        ########################################## Complete This Code~!\n",
        "        return x\n",
        "\n",
        "model = Custom_CNN().to(DEVICE)\n",
        "summary(model, (1, 28, 28))"
      ]
    },
    {
      "cell_type": "code",
      "execution_count": 6,
      "metadata": {
        "id": "kyVJl5SJzp7C"
      },
      "outputs": [],
      "source": [
        "# Optimizer 설정\n",
        "optimizer = optim.Adam(model.parameters(), lr=LR)"
      ]
    },
    {
      "cell_type": "code",
      "execution_count": 7,
      "metadata": {
        "id": "XsAW3Uzm2eHf"
      },
      "outputs": [],
      "source": [
        "# Train 구현\n",
        "def train_one_epoch(model, train_loader, optimizer, epoch):\n",
        "    model.train()\n",
        "    for batch_idx, (data, target) in enumerate(train_loader):\n",
        "        data, target = data.to(DEVICE), target.to(DEVICE)\n",
        "        optimizer.zero_grad()\n",
        "        output = model(data)\n",
        "        loss = F.cross_entropy(output, target)\n",
        "        loss.backward()\n",
        "        optimizer.step()\n",
        "\n",
        "        if batch_idx % 200 == 0:\n",
        "            print('Train Epoch: {} [{}/{} ({:.0f}%)]\\tLoss: {:.6f}'.format(\n",
        "                epoch, batch_idx * len(data), len(train_loader.dataset),\n",
        "                100. * batch_idx / len(train_loader), loss.item()))"
      ]
    },
    {
      "cell_type": "code",
      "execution_count": 8,
      "metadata": {
        "id": "vAxgfsXt2iar"
      },
      "outputs": [],
      "source": [
        "# Evaluation 구현\n",
        "def evaluate(model, test_loader):\n",
        "    model.eval()\n",
        "    test_loss = 0\n",
        "    correct = 0\n",
        "    with torch.no_grad():\n",
        "        for data, target in test_loader:\n",
        "            data, target = data.to(DEVICE), target.to(DEVICE)\n",
        "            output = model(data)\n",
        "\n",
        "            # 배치 오차를 합산\n",
        "            test_loss += F.cross_entropy(output, target,\n",
        "                                         reduction='sum').item()  # softmax 가 내부에서 적용 됨\n",
        "\n",
        "            # 가장 높은 값을 가진 인덱스가 바로 예측값\n",
        "            pred = output.max(1, keepdim=True)[1]\n",
        "            correct += pred.eq(target.view_as(pred)).sum().item()\n",
        "\n",
        "    test_loss /= len(test_loader.dataset)\n",
        "    test_accuracy = 100. * correct / len(test_loader.dataset)\n",
        "    return test_loss, test_accuracy"
      ]
    },
    {
      "cell_type": "markdown",
      "metadata": {
        "id": "rOhXgmjH2o-a"
      },
      "source": [
        "- Q. model.eval()을 사용하는 이유?\n",
        "\n",
        " : 모델링 시 training과 inference 시 다르게 동작하는 layer 들이 존재.\n",
        "(예를 들어, Dropout, BatchNorm)\n",
        "\n",
        " - Dropout layer는 학습시에는 probability에 따라 일부 노드들만을 선택해 가중치곱을 하지만 inference시에는 모든 노드들의 가중치곱에다가 probability를 곱해주게 됨.\n",
        "\n",
        " - BatchNorm layer는 학습시에는 레이어의 인풋으로 들어온 Mini Batch의 Mean, Variance를 사용하여 정규화 하지만 Inference 시에는 Mean과 Variance를 알 수없음.\n",
        "그렇기에 Training시 Mean, Varaince를 한번 사용하고 버리는 것이 아니고 Inference Mode에서의 사용을 위해 계속 지수이동평균으로 축적함. ( 지수이동평균식 = Momentum 계산식 : alpha는 Momentum이란 계수로 보통 0.9, 0.99, 0.999와 같이 1에 가까운 값을 사용 )\n",
        "\n",
        "- Q. Evaluation 과정에서 loss.backward()를 사용하지 않아서 backpropagation을 안하면 되는데, 굳이 torch.no_grad()를 사용하는 이유?\n",
        "\n",
        " : torch.no_grad()를 with statement에 포함시키게 되면 Pytorch는 autograd engine을 꺼버림.\n",
        "즉, gradient를 자동으로 트래킹하지 않게 된다.\n",
        "Inference시에는 gradient를 사용할 필요가 없으므로 autograd를 끔으로써 메모리 사용량을 줄이고 연산 속도를 높인다.\n",
        "\n"
      ]
    },
    {
      "cell_type": "code",
      "execution_count": 9,
      "metadata": {
        "colab": {
          "base_uri": "https://localhost:8080/"
        },
        "id": "xBKDRvU53ja2",
        "outputId": "4a2c8a35-2999-4a25-b0f9-8a7cc9b8c1cf"
      },
      "outputs": [
        {
          "output_type": "stream",
          "name": "stdout",
          "text": [
            "Train Epoch: 1 [0/60000 (0%)]\tLoss: 2.308639\n",
            "Train Epoch: 1 [12800/60000 (21%)]\tLoss: 1.613527\n",
            "Train Epoch: 1 [25600/60000 (43%)]\tLoss: 0.702042\n",
            "Train Epoch: 1 [38400/60000 (64%)]\tLoss: 0.551132\n",
            "Train Epoch: 1 [51200/60000 (85%)]\tLoss: 0.712772\n",
            "[1] Test Loss: 0.3097, Accuracy: 91.40%\n",
            "Train Epoch: 2 [0/60000 (0%)]\tLoss: 0.544592\n",
            "Train Epoch: 2 [12800/60000 (21%)]\tLoss: 0.244878\n",
            "Train Epoch: 2 [25600/60000 (43%)]\tLoss: 0.245748\n",
            "Train Epoch: 2 [38400/60000 (64%)]\tLoss: 0.250146\n",
            "Train Epoch: 2 [51200/60000 (85%)]\tLoss: 0.213251\n",
            "[2] Test Loss: 0.1861, Accuracy: 94.72%\n",
            "Train Epoch: 3 [0/60000 (0%)]\tLoss: 0.438997\n",
            "Train Epoch: 3 [12800/60000 (21%)]\tLoss: 0.146713\n",
            "Train Epoch: 3 [25600/60000 (43%)]\tLoss: 0.154189\n",
            "Train Epoch: 3 [38400/60000 (64%)]\tLoss: 0.134439\n",
            "Train Epoch: 3 [51200/60000 (85%)]\tLoss: 0.280064\n",
            "[3] Test Loss: 0.1303, Accuracy: 96.02%\n",
            "Train Epoch: 4 [0/60000 (0%)]\tLoss: 0.196944\n",
            "Train Epoch: 4 [12800/60000 (21%)]\tLoss: 0.224474\n",
            "Train Epoch: 4 [25600/60000 (43%)]\tLoss: 0.312891\n",
            "Train Epoch: 4 [38400/60000 (64%)]\tLoss: 0.261317\n",
            "Train Epoch: 4 [51200/60000 (85%)]\tLoss: 0.134014\n",
            "[4] Test Loss: 0.1021, Accuracy: 96.89%\n",
            "Train Epoch: 5 [0/60000 (0%)]\tLoss: 0.069944\n",
            "Train Epoch: 5 [12800/60000 (21%)]\tLoss: 0.142114\n",
            "Train Epoch: 5 [25600/60000 (43%)]\tLoss: 0.085219\n",
            "Train Epoch: 5 [38400/60000 (64%)]\tLoss: 0.059590\n",
            "Train Epoch: 5 [51200/60000 (85%)]\tLoss: 0.225001\n",
            "[5] Test Loss: 0.0853, Accuracy: 97.30%\n",
            "Train Epoch: 6 [0/60000 (0%)]\tLoss: 0.253145\n",
            "Train Epoch: 6 [12800/60000 (21%)]\tLoss: 0.231117\n",
            "Train Epoch: 6 [25600/60000 (43%)]\tLoss: 0.098096\n",
            "Train Epoch: 6 [38400/60000 (64%)]\tLoss: 0.285231\n",
            "Train Epoch: 6 [51200/60000 (85%)]\tLoss: 0.131933\n",
            "[6] Test Loss: 0.0715, Accuracy: 97.76%\n",
            "Train Epoch: 7 [0/60000 (0%)]\tLoss: 0.033816\n",
            "Train Epoch: 7 [12800/60000 (21%)]\tLoss: 0.075795\n",
            "Train Epoch: 7 [25600/60000 (43%)]\tLoss: 0.063998\n",
            "Train Epoch: 7 [38400/60000 (64%)]\tLoss: 0.176490\n",
            "Train Epoch: 7 [51200/60000 (85%)]\tLoss: 0.080762\n",
            "[7] Test Loss: 0.0613, Accuracy: 98.08%\n",
            "Train Epoch: 8 [0/60000 (0%)]\tLoss: 0.084236\n",
            "Train Epoch: 8 [12800/60000 (21%)]\tLoss: 0.057222\n",
            "Train Epoch: 8 [25600/60000 (43%)]\tLoss: 0.089867\n",
            "Train Epoch: 8 [38400/60000 (64%)]\tLoss: 0.121923\n",
            "Train Epoch: 8 [51200/60000 (85%)]\tLoss: 0.117684\n",
            "[8] Test Loss: 0.0575, Accuracy: 98.20%\n",
            "Train Epoch: 9 [0/60000 (0%)]\tLoss: 0.049564\n",
            "Train Epoch: 9 [12800/60000 (21%)]\tLoss: 0.078922\n",
            "Train Epoch: 9 [25600/60000 (43%)]\tLoss: 0.062470\n",
            "Train Epoch: 9 [38400/60000 (64%)]\tLoss: 0.073609\n",
            "Train Epoch: 9 [51200/60000 (85%)]\tLoss: 0.071896\n",
            "[9] Test Loss: 0.0536, Accuracy: 98.19%\n",
            "Train Epoch: 10 [0/60000 (0%)]\tLoss: 0.160602\n",
            "Train Epoch: 10 [12800/60000 (21%)]\tLoss: 0.121835\n",
            "Train Epoch: 10 [25600/60000 (43%)]\tLoss: 0.061514\n",
            "Train Epoch: 10 [38400/60000 (64%)]\tLoss: 0.116588\n",
            "Train Epoch: 10 [51200/60000 (85%)]\tLoss: 0.015414\n",
            "[10] Test Loss: 0.0519, Accuracy: 98.19%\n"
          ]
        }
      ],
      "source": [
        "# Train 및 Evaluate\n",
        "for epoch in range(1, EPOCHS + 1):\n",
        "    train_one_epoch(model, train_loader, optimizer, epoch)\n",
        "    test_loss, test_accuracy = evaluate(model, test_loader)\n",
        "\n",
        "    print('[{}] Test Loss: {:.4f}, Accuracy: {:.2f}%'.format(\n",
        "          epoch, test_loss, test_accuracy))"
      ]
    },
    {
      "cell_type": "code",
      "execution_count": 10,
      "metadata": {
        "colab": {
          "base_uri": "https://localhost:8080/"
        },
        "id": "b3jdRSBh45Nj",
        "outputId": "f8a23599-6a37-43e5-dbf8-7497438e65f7"
      },
      "outputs": [
        {
          "output_type": "stream",
          "name": "stdout",
          "text": [
            "{0: '0 - zero', 1: '1 - one', 2: '2 - two', 3: '3 - three', 4: '4 - four', 5: '5 - five', 6: '6 - six', 7: '7 - seven', 8: '8 - eight', 9: '9 - nine'}\n"
          ]
        }
      ],
      "source": [
        "# Datatset의 Class 프린트\n",
        "CLASSES = dict()\n",
        "for i in range(10) :\n",
        "    CLASSES[i] = train_dataset.classes[i]\n",
        "print(CLASSES)"
      ]
    },
    {
      "cell_type": "code",
      "execution_count": 16,
      "metadata": {
        "colab": {
          "base_uri": "https://localhost:8080/",
          "height": 829
        },
        "id": "J_7U_6674kEk",
        "outputId": "013a9828-3619-4112-c046-a27c3c66fff2"
      },
      "outputs": [
        {
          "output_type": "display_data",
          "data": {
            "text/plain": [
              "<Figure size 1000x1000 with 30 Axes>"
            ],
            "image/png": "[encoded data removed]"
          },
          "metadata": {}
        }
      ],
      "source": [
        "# Visualization\n",
        "columns = 6\n",
        "rows = 5\n",
        "fig = plt.figure(figsize=(10,10)) # 가로 세로 10 인치 figure를 생성 (도화지 사이즈를 설정)\n",
        "model.eval()\n",
        "for i in range(1, columns*rows+1):\n",
        "    data_idx = np.random.randint(len(test_dataset))\n",
        "    input_img = test_dataset[data_idx][0].unsqueeze(dim=0).to(DEVICE) # model에 Input을 넣어줄 때는 4-Dim으로 넣어줘야함\n",
        "    output = model(input_img)\n",
        "    _, argmax = torch.max(output, dim=1)\n",
        "    pred = CLASSES[argmax.item()]\n",
        "    label = CLASSES[test_dataset[data_idx][1]]\n",
        "\n",
        "    fig.add_subplot(columns, rows, i) # 세로를 columns 개수로 쪼개고, 가로를 rows 개수로 쪼갰을 때 i번째 칸을 설정 (도화지를 가로는 columns, 세로는 rows 개수로 잘라서 i번째 칸에 그림을 그리겠다고 설정)\n",
        "    if pred == label:\n",
        "        plt.title(pred + ', right')\n",
        "        cmap = 'Blues'\n",
        "    else:\n",
        "        plt.title('N ' + pred + ' B ' +  label)\n",
        "        cmap = 'Reds'\n",
        "    plot_img = test_dataset[data_idx][0][0,:,:]\n",
        "    plt.imshow(plot_img, cmap=cmap) # 그림을 그림 (cmap : 값을 표시하는 데 사용되는 컬러 맵)\n",
        "    plt.axis('off') # 주변 네모 박스 등이 그려지면 그림이 별로 예쁘지 않게 보임\n",
        "plt.show()"
      ]
    },
    {
      "cell_type": "markdown",
      "metadata": {
        "id": "18cvgJPC7Ex6"
      },
      "source": [
        "## Example 2) Custom CNN 모델 구현 with F-MNIST dataset\n",
        "\n",
        "![image.png](http://drive.google.com/uc?id=1_A8JugM-133Rku7KJaK_CTS3zxkXbCPR)"
      ]
    },
    {
      "cell_type": "code",
      "execution_count": 18,
      "metadata": {
        "id": "XSlZN8-6BYjm"
      },
      "outputs": [],
      "source": [
        "# 패키지 import\n",
        "import torch\n",
        "import torch.nn as nn\n",
        "import torch.optim as optim\n",
        "import torch.nn.functional as F\n",
        "from torchvision import transforms, datasets, utils\n",
        "from torchsummary import summary\n",
        "\n",
        "import matplotlib.pyplot as plt\n",
        "import numpy as np\n",
        "\n",
        "# DEVICE 설정\n",
        "USE_CUDA = torch.cuda.is_available()\n",
        "DEVICE = torch.device(\"cuda\" if USE_CUDA else \"cpu\")\n",
        "\n",
        "# Parameter 설정\n",
        "EPOCHS = 3\n",
        "BATCH_SIZE = 64\n",
        "LR = 0.01\n",
        "\n",
        "# Transform 설정\n",
        "transform_FashionMNIST = transforms.Compose([\n",
        "    transforms.ToTensor(),\n",
        "    transforms.Normalize((0.5,), (0.5,))# mean and std\n",
        "])\n",
        "\n",
        "# Dataset 설정\n",
        "train_dataset = datasets.FashionMNIST(root = '../data',\n",
        "                                         train = True,\n",
        "                                         download = True,\n",
        "                                         transform = transform_FashionMNIST)\n",
        "\n",
        "test_dataset = datasets.FashionMNIST(root = '../data',\n",
        "                                train = False,\n",
        "                                download = True,\n",
        "                                transform = transform_FashionMNIST)\n",
        "\n",
        "train_loader = torch.utils.data.DataLoader(dataset = train_dataset,\n",
        "                                           batch_size = BATCH_SIZE,\n",
        "                                           shuffle=True)\n",
        "\n",
        "test_loader = torch.utils.data.DataLoader(dataset = test_dataset,\n",
        "                                           batch_size = BATCH_SIZE,\n",
        "                                           shuffle=False)"
      ]
    },
    {
      "cell_type": "markdown",
      "metadata": {
        "id": "C3ySf6LJa2fi"
      },
      "source": [
        "![image.png](http://drive.google.com/uc?id=1kXTkMcYDU1UCb2NFMZPTOYWmavJYAaqr)\n",
        "\n",
        "![image.png](http://drive.google.com/uc?id=1m0RVhpddRxXmSfOKF9QqcN838-6_Fd2q)\n",
        "\n",
        "![image.png](http://drive.google.com/uc?id=17DgT11woHwXACEGOfvkVd8pYmxRI7vQl)"
      ]
    },
    {
      "cell_type": "code",
      "execution_count": 20,
      "metadata": {
        "colab": {
          "base_uri": "https://localhost:8080/"
        },
        "id": "CBFPenH9BZIP",
        "outputId": "90db95b5-cf2e-4875-bfe8-250d7f07827a"
      },
      "outputs": [
        {
          "output_type": "stream",
          "name": "stdout",
          "text": [
            "----------------------------------------------------------------\n",
            "        Layer (type)               Output Shape         Param #\n",
            "================================================================\n",
            "            Conv2d-1           [-1, 10, 28, 28]             260\n",
            "       BatchNorm2d-2           [-1, 10, 28, 28]              20\n",
            "              ReLU-3           [-1, 10, 28, 28]               0\n",
            "            Conv2d-4           [-1, 20, 28, 28]           1,820\n",
            "       BatchNorm2d-5           [-1, 20, 28, 28]              40\n",
            "              ReLU-6           [-1, 20, 28, 28]               0\n",
            "         MaxPool2d-7           [-1, 20, 14, 14]               0\n",
            "            Conv2d-8           [-1, 40, 14, 14]           7,240\n",
            "       BatchNorm2d-9           [-1, 40, 14, 14]              80\n",
            "             ReLU-10           [-1, 40, 14, 14]               0\n",
            "           Conv2d-11           [-1, 80, 14, 14]          28,880\n",
            "      BatchNorm2d-12           [-1, 80, 14, 14]             160\n",
            "             ReLU-13           [-1, 80, 14, 14]               0\n",
            "        MaxPool2d-14             [-1, 80, 7, 7]               0\n",
            "           Linear-15                  [-1, 100]         392,100\n",
            "             ReLU-16                  [-1, 100]               0\n",
            "        Dropout2d-17                  [-1, 100]               0\n",
            "           Linear-18                   [-1, 10]           1,010\n",
            "================================================================\n",
            "Total params: 431,610\n",
            "Trainable params: 431,610\n",
            "Non-trainable params: 0\n",
            "----------------------------------------------------------------\n",
            "Input size (MB): 0.00\n",
            "Forward/backward pass size (MB): 1.14\n",
            "Params size (MB): 1.65\n",
            "Estimated Total Size (MB): 2.79\n",
            "----------------------------------------------------------------\n"
          ]
        },
        {
          "output_type": "stream",
          "name": "stderr",
          "text": [
            "/usr/local/lib/python3.10/dist-packages/torch/nn/functional.py:1331: UserWarning: dropout2d: Received a 2-D input to dropout2d, which is deprecated and will result in an error in a future release. To retain the behavior and silence this warning, please use dropout instead. Note that dropout2d exists to provide channel-wise dropout on inputs with 2 spatial dimensions, a channel dimension, and an optional batch dimension (i.e. 3D or 4D inputs).\n",
            "  warnings.warn(warn_msg)\n"
          ]
        }
      ],
      "source": [
        "# Model 구현\n",
        "class Custom_CNN(nn.Module):\n",
        "    def __init__(self):\n",
        "        super(Custom_CNN, self).__init__()\n",
        "        ########################################## Complete This Code~!\n",
        "\n",
        "        self.conv1 = nn.Conv2d(1, 10, kernel_size=5, stride=1, padding=2)\n",
        "        self.conv2 = nn.Conv2d(10, 20, kernel_size=3, stride=1, padding=1)\n",
        "        self.conv3 = nn.Conv2d(20, 40, kernel_size=3, stride=1, padding=1)\n",
        "        self.conv4 = nn.Conv2d(40, 80, kernel_size=3, stride=1, padding=1)\n",
        "\n",
        "        self.bn1 = nn.BatchNorm2d(10)\n",
        "        self.bn2 = nn.BatchNorm2d(20)\n",
        "        self.bn3 = nn.BatchNorm2d(40)\n",
        "        self.bn4 = nn.BatchNorm2d(80)\n",
        "\n",
        "        # maxpool, activation\n",
        "        self.maxpool = nn.MaxPool2d(kernel_size=2)\n",
        "        self.relu = nn.ReLU(inplace=True)\n",
        "\n",
        "        self.fc1 = nn.Linear(80 * 7 * 7, 100)\n",
        "        self.dropout = nn.Dropout2d(p=0.2)\n",
        "        self.fc2 = nn.Linear(100, 10)\n",
        "\n",
        "        ########################################## Complete This Code~!\n",
        "    def forward(self, x): # [1,28,28]\n",
        "        ########################################## Complete This Code~!\n",
        "\n",
        "        x = self.relu(self.bn1(self.conv1(x)))  # (10, 28, 28)\n",
        "        x = self.relu(self.bn2(self.conv2(x)))  # (20, 28, 28)\n",
        "        x = self.maxpool(x)                     # (20, 14, 14)\n",
        "        x = self.relu(self.bn3(self.conv3(x)))  # (40, 14, 14)\n",
        "        x = self.relu(self.bn4(self.conv4(x)))  # (80, 14, 14)\n",
        "        x = self.maxpool(x)                     # (80, 7, 7)\n",
        "\n",
        "        x = x.view(-1, 80 * 7 * 7)\n",
        "\n",
        "        x = self.dropout(self.relu(self.fc1(x)))\n",
        "        x = self.fc2(x)\n",
        "\n",
        "        ########################################## Complete This Code~!\n",
        "        return x\n",
        "\n",
        "\n",
        "model = Custom_CNN().to(DEVICE)\n",
        "summary(model, (1, 28, 28))"
      ]
    },
    {
      "cell_type": "code",
      "execution_count": 21,
      "metadata": {
        "id": "1jUELOwxBZLF"
      },
      "outputs": [],
      "source": [
        "# Optimizer 설정\n",
        "optimizer = optim.SGD(model.parameters(), lr=LR, momentum=0.5)"
      ]
    },
    {
      "cell_type": "code",
      "execution_count": null,
      "metadata": {
        "colab": {
          "base_uri": "https://localhost:8080/"
        },
        "id": "5GGJSWewBZN-",
        "outputId": "efb66bb5-05cb-4c61-fe2f-77ccc4d1d4be"
      },
      "outputs": [
        {
          "output_type": "stream",
          "name": "stdout",
          "text": [
            "Train Epoch: 1 [0/60000 (0%)]\tLoss: 0.167191\n",
            "Train Epoch: 1 [12800/60000 (21%)]\tLoss: 0.197462\n",
            "Train Epoch: 1 [25600/60000 (43%)]\tLoss: 0.146669\n",
            "Train Epoch: 1 [38400/60000 (64%)]\tLoss: 0.276056\n",
            "Train Epoch: 1 [51200/60000 (85%)]\tLoss: 0.238254\n",
            "[1] Test Loss: 0.2552, Accuracy: 90.61%\n",
            "Train Epoch: 2 [0/60000 (0%)]\tLoss: 0.143135\n",
            "Train Epoch: 2 [12800/60000 (21%)]\tLoss: 0.507283\n",
            "Train Epoch: 2 [25600/60000 (43%)]\tLoss: 0.175880\n",
            "Train Epoch: 2 [38400/60000 (64%)]\tLoss: 0.249592\n",
            "Train Epoch: 2 [51200/60000 (85%)]\tLoss: 0.331064\n",
            "[2] Test Loss: 0.2444, Accuracy: 91.00%\n",
            "Train Epoch: 3 [0/60000 (0%)]\tLoss: 0.241585\n",
            "Train Epoch: 3 [12800/60000 (21%)]\tLoss: 0.153777\n",
            "Train Epoch: 3 [25600/60000 (43%)]\tLoss: 0.128373\n",
            "Train Epoch: 3 [38400/60000 (64%)]\tLoss: 0.102614\n",
            "Train Epoch: 3 [51200/60000 (85%)]\tLoss: 0.240554\n",
            "[3] Test Loss: 0.2606, Accuracy: 90.21%\n",
            "Train Epoch: 4 [0/60000 (0%)]\tLoss: 0.142344\n",
            "Train Epoch: 4 [12800/60000 (21%)]\tLoss: 0.171896\n",
            "Train Epoch: 4 [25600/60000 (43%)]\tLoss: 0.165787\n",
            "Train Epoch: 4 [38400/60000 (64%)]\tLoss: 0.063878\n",
            "Train Epoch: 4 [51200/60000 (85%)]\tLoss: 0.094083\n",
            "[4] Test Loss: 0.2785, Accuracy: 89.82%\n",
            "Train Epoch: 5 [0/60000 (0%)]\tLoss: 0.122971\n",
            "Train Epoch: 5 [12800/60000 (21%)]\tLoss: 0.203456\n",
            "Train Epoch: 5 [25600/60000 (43%)]\tLoss: 0.088965\n",
            "Train Epoch: 5 [38400/60000 (64%)]\tLoss: 0.156656\n",
            "Train Epoch: 5 [51200/60000 (85%)]\tLoss: 0.175121\n",
            "[5] Test Loss: 0.2314, Accuracy: 91.48%\n",
            "Train Epoch: 6 [0/60000 (0%)]\tLoss: 0.252209\n",
            "Train Epoch: 6 [12800/60000 (21%)]\tLoss: 0.259286\n",
            "Train Epoch: 6 [25600/60000 (43%)]\tLoss: 0.163809\n",
            "Train Epoch: 6 [38400/60000 (64%)]\tLoss: 0.117388\n",
            "Train Epoch: 6 [51200/60000 (85%)]\tLoss: 0.151194\n",
            "[6] Test Loss: 0.2253, Accuracy: 91.73%\n",
            "Train Epoch: 7 [0/60000 (0%)]\tLoss: 0.082516\n",
            "Train Epoch: 7 [12800/60000 (21%)]\tLoss: 0.188886\n",
            "Train Epoch: 7 [25600/60000 (43%)]\tLoss: 0.155347\n",
            "Train Epoch: 7 [38400/60000 (64%)]\tLoss: 0.073428\n",
            "Train Epoch: 7 [51200/60000 (85%)]\tLoss: 0.080421\n",
            "[7] Test Loss: 0.2328, Accuracy: 91.75%\n",
            "Train Epoch: 8 [0/60000 (0%)]\tLoss: 0.200588\n",
            "Train Epoch: 8 [12800/60000 (21%)]\tLoss: 0.163931\n",
            "Train Epoch: 8 [25600/60000 (43%)]\tLoss: 0.119444\n",
            "Train Epoch: 8 [38400/60000 (64%)]\tLoss: 0.102718\n"
          ]
        }
      ],
      "source": [
        "EPOCHS = 10\n",
        "\n",
        "\n",
        "# Train 구현\n",
        "def train_one_epoch(model, train_loader, optimizer, epoch):\n",
        "    model.train()\n",
        "    for batch_idx, (data, target) in enumerate(train_loader):\n",
        "        data, target = data.to(DEVICE), target.to(DEVICE)\n",
        "        optimizer.zero_grad()\n",
        "        output = model(data)\n",
        "        loss = F.cross_entropy(output, target)\n",
        "        loss.backward()\n",
        "        optimizer.step()\n",
        "\n",
        "        if batch_idx % 200 == 0:\n",
        "            print('Train Epoch: {} [{}/{} ({:.0f}%)]\\tLoss: {:.6f}'.format(\n",
        "                epoch, batch_idx * len(data), len(train_loader.dataset),\n",
        "                100. * batch_idx / len(train_loader), loss.item()))\n",
        "\n",
        "# Evaluation 구현\n",
        "def evaluate(model, test_loader):\n",
        "    model.eval()\n",
        "    test_loss = 0\n",
        "    correct = 0\n",
        "    with torch.no_grad():\n",
        "        for data, target in test_loader:\n",
        "            data, target = data.to(DEVICE), target.to(DEVICE)\n",
        "            output = model(data)\n",
        "\n",
        "            # 배치 오차를 합산\n",
        "            test_loss += F.cross_entropy(output, target,\n",
        "                                         reduction='sum').item()\n",
        "\n",
        "            # 가장 높은 값을 가진 인덱스가 바로 예측값\n",
        "            pred = output.max(1, keepdim=True)[1]\n",
        "            correct += pred.eq(target.view_as(pred)).sum().item()\n",
        "\n",
        "    test_loss /= len(test_loader.dataset)\n",
        "    test_accuracy = 100. * correct / len(test_loader.dataset)\n",
        "    return test_loss, test_accuracy\n",
        "\n",
        "# Train 및 Evaluate\n",
        "for epoch in range(1, EPOCHS + 1):\n",
        "    train_one_epoch(model, train_loader, optimizer, epoch)\n",
        "    test_loss, test_accuracy = evaluate(model, test_loader)\n",
        "\n",
        "    print('[{}] Test Loss: {:.4f}, Accuracy: {:.2f}%'.format(\n",
        "          epoch, test_loss, test_accuracy))"
      ]
    },
    {
      "cell_type": "code",
      "execution_count": null,
      "metadata": {
        "id": "daS_-3h13iMT"
      },
      "outputs": [],
      "source": [
        "# Datatset의 Class 프린트\n",
        "CLASSES = dict()\n",
        "for i in range(10) :\n",
        "    CLASSES[i] = train_dataset.classes[i]\n",
        "print(CLASSES)"
      ]
    },
    {
      "cell_type": "code",
      "execution_count": null,
      "metadata": {
        "id": "GpmphJkhZgJ7"
      },
      "outputs": [],
      "source": [
        "# Visualization\n",
        "columns = 6\n",
        "rows = 6\n",
        "fig = plt.figure(figsize=(10,10))\n",
        "\n",
        "model.eval()\n",
        "for i in range(1, columns*rows+1):\n",
        "    data_idx = np.random.randint(len(test_dataset))\n",
        "    input_img = test_dataset[data_idx][0].unsqueeze(dim=0).to(DEVICE)\n",
        "\n",
        "    output = model(input_img)\n",
        "    _, argmax = torch.max(output, 1)\n",
        "    pred = CLASSES[argmax.item()]\n",
        "    label = CLASSES[test_dataset[data_idx][1]]\n",
        "\n",
        "    fig.add_subplot(rows, columns, i)\n",
        "    if pred == label:\n",
        "        plt.title(pred + ', right')\n",
        "        cmap = 'Blues'\n",
        "    else:\n",
        "        plt.title('N ' + pred + ' B ' +  label)\n",
        "        cmap = 'Reds'\n",
        "    plot_img = test_dataset[data_idx][0][0,:,:]\n",
        "    plt.imshow(plot_img, cmap=cmap)\n",
        "    plt.axis('off')\n",
        "\n",
        "plt.show()"
      ]
    },
    {
      "cell_type": "markdown",
      "metadata": {
        "id": "2T_uIcrdaYus"
      },
      "source": [
        "## Exercise 3) Custom CNN 모델 구현 with CIFAR-10 dataset\n",
        "\n",
        "![image.png](http://drive.google.com/uc?id=1ygFHSGnUevJsDBXk8-_lPA-3LnuibtHY)"
      ]
    },
    {
      "cell_type": "code",
      "execution_count": null,
      "metadata": {
        "id": "MzOI1fOlbEf_"
      },
      "outputs": [],
      "source": [
        "# 패키지 import\n",
        "import torch\n",
        "import torch.nn as nn\n",
        "import torch.optim as optim\n",
        "import torch.nn.functional as F\n",
        "from torchvision import transforms, datasets, utils\n",
        "from torchsummary import summary\n",
        "import matplotlib.pyplot as plt\n",
        "\n",
        "# DEVICE 설정\n",
        "USE_CUDA = torch.cuda.is_available()\n",
        "DEVICE = torch.device(\"cuda\" if USE_CUDA else \"cpu\")\n",
        "\n",
        "# Parameter 설정\n",
        "EPOCHS = 3\n",
        "BATCH_SIZE = 64\n",
        "LR = 0.01\n",
        "\n",
        "# Transform 설정\n",
        "transform_CIFAR10 = transforms.Compose([\n",
        "    transforms.ToTensor(),\n",
        "    transforms.Normalize(mean=(0.485, 0.456, 0.406), std=(0.229, 0.224, 0.225)),\n",
        "])\n",
        "\n",
        "# Dataset 설정\n",
        "train_dataset = datasets.CIFAR10(root = '../data',\n",
        "                                         train = True,\n",
        "                                         download = True,\n",
        "                                         transform = transform_CIFAR10)\n",
        "\n",
        "test_dataset = datasets.CIFAR10(root = '../data',\n",
        "                                train = False,\n",
        "                                download = True,\n",
        "                                transform = transform_CIFAR10)\n",
        "\n",
        "train_loader = torch.utils.data.DataLoader(dataset = train_dataset,\n",
        "                                           batch_size = BATCH_SIZE,\n",
        "                                           shuffle=True)\n",
        "\n",
        "test_loader = torch.utils.data.DataLoader(dataset = test_dataset,\n",
        "                                          batch_size = BATCH_SIZE,\n",
        "                                          shuffle=True)"
      ]
    },
    {
      "cell_type": "markdown",
      "metadata": {
        "id": "TeqU_js0axGW"
      },
      "source": [
        "![image.png](http://drive.google.com/uc?id=118ueThyot5xi3XT8Eguni9q2HmXjejRB)\n",
        "\n",
        "![image.png](http://drive.google.com/uc?id=17DgT11woHwXACEGOfvkVd8pYmxRI7vQl)"
      ]
    },
    {
      "cell_type": "code",
      "execution_count": null,
      "metadata": {
        "id": "1mY6EEVtbIOt"
      },
      "outputs": [],
      "source": [
        "# Model 구현\n",
        "class Custom_CNN(nn.Module):\n",
        "    def __init__(self):\n",
        "        super(Custom_CNN, self).__init__()\n",
        "        ########################################## Complete This Code~!\n",
        "\n",
        "        ########################################## Complete This Code~!\n",
        "\n",
        "    def forward(self, x): #(3,32,32)\n",
        "        ########################################## Complete This Code~!\n",
        "\n",
        "        ########################################## Complete This Code~!\n",
        "        return x\n",
        "\n",
        "model = Custom_CNN().to(DEVICE)\n",
        "summary(model, (3, 32, 32))"
      ]
    },
    {
      "cell_type": "code",
      "execution_count": null,
      "metadata": {
        "id": "a7mPv1ipbUvB"
      },
      "outputs": [],
      "source": [
        "# Optimizer 설정\n",
        "optimizer = optim.SGD(model.parameters(), lr=LR, momentum=0.5)"
      ]
    },
    {
      "cell_type": "code",
      "execution_count": null,
      "metadata": {
        "id": "ThOqIYRdbKT-"
      },
      "outputs": [],
      "source": [
        "# Train 구현\n",
        "def train_one_epoch(model, train_loader, optimizer, epoch):\n",
        "    model.train()\n",
        "    for batch_idx, (data, target) in enumerate(train_loader):\n",
        "        data, target = data.to(DEVICE), target.to(DEVICE)\n",
        "        optimizer.zero_grad()\n",
        "        output = model(data)\n",
        "        loss = F.cross_entropy(output, target)\n",
        "        loss.backward()\n",
        "        optimizer.step()\n",
        "\n",
        "        if batch_idx % 200 == 0:\n",
        "            print('Train Epoch: {} [{}/{} ({:.0f}%)]\\tLoss: {:.6f}'.format(\n",
        "                epoch, batch_idx * len(data), len(train_loader.dataset),\n",
        "                100. * batch_idx / len(train_loader), loss.item()))\n",
        "\n",
        "# Evaluation 구현\n",
        "def evaluate(model, test_loader):\n",
        "    model.eval()\n",
        "    test_loss = 0\n",
        "    correct = 0\n",
        "    with torch.no_grad():\n",
        "        for data, target in test_loader:\n",
        "            data, target = data.to(DEVICE), target.to(DEVICE)\n",
        "            output = model(data)\n",
        "\n",
        "            # 배치 오차를 합산\n",
        "            test_loss += F.cross_entropy(output, target,\n",
        "                                         reduction='sum').item()\n",
        "\n",
        "            # 가장 높은 값을 가진 인덱스가 바로 예측값\n",
        "            pred = output.max(1, keepdim=True)[1]\n",
        "            correct += pred.eq(target.view_as(pred)).sum().item()\n",
        "\n",
        "    test_loss /= len(test_loader.dataset)\n",
        "    test_accuracy = 100. * correct / len(test_loader.dataset)\n",
        "    return test_loss, test_accuracy\n",
        "\n",
        "# Train 및 Evaluate\n",
        "for epoch in range(1, EPOCHS + 1):\n",
        "    train_one_epoch(model, train_loader, optimizer, epoch)\n",
        "    test_loss, test_accuracy = evaluate(model, test_loader)\n",
        "\n",
        "    print('[{}] Test Loss: {:.4f}, Accuracy: {:.2f}%'.format(\n",
        "          epoch, test_loss, test_accuracy))"
      ]
    },
    {
      "cell_type": "code",
      "execution_count": null,
      "metadata": {
        "id": "ytN9iIRFhsE1"
      },
      "outputs": [],
      "source": [
        "# Datatset의 Class 프린트\n",
        "CLASSES = dict()\n",
        "for i in range(10) :\n",
        "    CLASSES[i] = train_dataset.classes[i]\n",
        "print(CLASSES)"
      ]
    },
    {
      "cell_type": "code",
      "execution_count": null,
      "metadata": {
        "id": "nC-tTj6yhsel"
      },
      "outputs": [],
      "source": [
        "# Visualization\n",
        "columns = 6\n",
        "rows = 6\n",
        "fig = plt.figure(figsize=(10,10))\n",
        "\n",
        "model.eval()\n",
        "for i in range(1, columns*rows+1):\n",
        "    data_idx = np.random.randint(len(test_dataset))\n",
        "    input_img = test_dataset[data_idx][0].unsqueeze(dim=0).to(DEVICE)\n",
        "\n",
        "    output = model(input_img)\n",
        "    _, argmax = torch.max(output, 1)\n",
        "    pred = CLASSES[argmax.item()]\n",
        "    label = CLASSES[test_dataset[data_idx][1]]\n",
        "\n",
        "    fig.add_subplot(rows, columns, i)\n",
        "    if pred == label:\n",
        "        plt.title(pred + ', right')\n",
        "        cmap = 'Blues'\n",
        "    else:\n",
        "        plt.title('N ' + pred + ' B ' +  label)\n",
        "        cmap = 'Reds'\n",
        "    plot_img = test_dataset[data_idx][0][0,:,:]\n",
        "    plt.imshow(plot_img, cmap=cmap)\n",
        "    plt.axis('off')\n",
        "\n",
        "plt.show()"
      ]
    }
  ],
  "metadata": {
    "accelerator": "GPU",
    "colab": {
      "provenance": []
    },
    "kernelspec": {
      "display_name": "Python 3",
      "name": "python3"
    },
    "language_info": {
      "name": "python"
    }
  },
  "nbformat": 4,
  "nbformat_minor": 0
}