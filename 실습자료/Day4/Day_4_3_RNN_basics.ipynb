{
  "nbformat": 4,
  "nbformat_minor": 0,
  "metadata": {
    "kernelspec": {
      "display_name": "Python 3",
      "language": "python",
      "name": "python3"
    },
    "language_info": {
      "codemirror_mode": {
        "name": "ipython",
        "version": 3
      },
      "file_extension": ".py",
      "mimetype": "text/x-python",
      "name": "python",
      "nbconvert_exporter": "python",
      "pygments_lexer": "ipython3",
      "version": "3.7.0"
    },
    "colab": {
      "provenance": [],
      "include_colab_link": true
    },
    "accelerator": "GPU",
    "gpuClass": "standard"
  },
  "cells": [
    {
      "cell_type": "markdown",
      "metadata": {
        "id": "view-in-github",
        "colab_type": "text"
      },
      "source": [
        "<a href=\"https://colab.research.google.com/github/jiminAn/2023_SUMMER_SAMSUNG_DL/blob/main/%EC%8B%A4%EC%8A%B5%EC%9E%90%EB%A3%8C/Day4/Day_4_3_RNN_basics.ipynb\" target=\"_parent\"><img src=\"https://colab.research.google.com/assets/colab-badge.svg\" alt=\"Open In Colab\"/></a>"
      ]
    },
    {
      "cell_type": "markdown",
      "source": [
        "# Day 4.3 RNN Basic\n",
        "### 실습 목표\n",
        "- RNN 모델의 입력 데이터 형태를 살펴보고 모델을 정의해보자"
      ],
      "metadata": {
        "id": "wFw-fD-9Y6Oi"
      }
    },
    {
      "cell_type": "markdown",
      "source": [
        "### Contents\n",
        "1. RNN 모델의 입력 데이터 형태\n",
        "2. RNN 모델 정의\n",
        "  1. vanila RNN\n",
        "  2. LSTM\n"
      ],
      "metadata": {
        "id": "W2WkCdopXDA-"
      }
    },
    {
      "cell_type": "markdown",
      "source": [
        "## 0. Setting\n",
        "- DL 관련 library 호출\n",
        "- GPU 설정"
      ],
      "metadata": {
        "id": "Jp0RB5pFXHZo"
      }
    },
    {
      "cell_type": "code",
      "metadata": {
        "id": "Ao23uZrmNkac"
      },
      "source": [
        "import torch\n",
        "import numpy as np\n",
        "import torchvision\n",
        "import torchvision.transforms as transforms\n",
        "import matplotlib.pyplot as plt"
      ],
      "execution_count": null,
      "outputs": []
    },
    {
      "cell_type": "code",
      "source": [
        "USE_CUDA = torch.cuda.is_available()\n",
        "DEVICE = torch.device(\"cuda\" if USE_CUDA else \"cpu\")\n",
        "print(DEVICE)"
      ],
      "metadata": {
        "colab": {
          "base_uri": "https://localhost:8080/"
        },
        "id": "uYinY_CEXSTQ",
        "outputId": "6789de5d-f5f7-4be9-ef0c-c7df4630ad85"
      },
      "execution_count": null,
      "outputs": [
        {
          "output_type": "stream",
          "name": "stdout",
          "text": [
            "cuda\n"
          ]
        }
      ]
    },
    {
      "cell_type": "markdown",
      "source": [
        "## 1. RNN 모델의 입력 데이터 형태\n",
        "### 예시\n",
        "- \"hello\"를 one-hot encoding을 사용하여 벡터로 치환해봅시다\n"
      ],
      "metadata": {
        "id": "JNnAMjyS37HK"
      }
    },
    {
      "cell_type": "code",
      "source": [
        "h = [1, 0, 0, 0]\n",
        "e = [0, 1, 0, 0]\n",
        "l = [0, 0, 1, 0]\n",
        "o = [0, 0, 0, 1]"
      ],
      "metadata": {
        "id": "nZp4LmoH371z"
      },
      "execution_count": null,
      "outputs": []
    },
    {
      "cell_type": "code",
      "source": [
        "input_data_np = np.array([[h, e, l, l, o]], dtype=np.float32)\n",
        "input_data = torch.Tensor(input_data_np)\n",
        "input_data"
      ],
      "metadata": {
        "colab": {
          "base_uri": "https://localhost:8080/"
        },
        "id": "WOwjBO7I39K9",
        "outputId": "c0298211-9b1e-48dd-ec59-184dfec8a38c"
      },
      "execution_count": null,
      "outputs": [
        {
          "output_type": "execute_result",
          "data": {
            "text/plain": [
              "tensor([[[1., 0., 0., 0.],\n",
              "         [0., 1., 0., 0.],\n",
              "         [0., 0., 1., 0.],\n",
              "         [0., 0., 1., 0.],\n",
              "         [0., 0., 0., 1.]]])"
            ]
          },
          "metadata": {},
          "execution_count": 13
        }
      ]
    },
    {
      "cell_type": "markdown",
      "source": [
        "- 앞에서 선언한 벡터를 이용하여 추가로, \"eolll\", \"lleel\"를 벡터로 치환해봅시다"
      ],
      "metadata": {
        "id": "qyyGaN3k4CV8"
      }
    },
    {
      "cell_type": "code",
      "source": [
        "# transform as torch tensor\n",
        "input_data_np = np.array([[h, e, l, l, o],\n",
        "                          [e, o, l, l, l],\n",
        "                          [l, l, e, e, l]], dtype=np.float32)\n",
        "input_data = torch.Tensor(input_data_np)\n",
        "input_data"
      ],
      "metadata": {
        "id": "x05lReWG4Dfg",
        "colab": {
          "base_uri": "https://localhost:8080/"
        },
        "outputId": "30d3f949-ccb8-4911-94d6-cb7a70dcf784"
      },
      "execution_count": null,
      "outputs": [
        {
          "output_type": "execute_result",
          "data": {
            "text/plain": [
              "tensor([[[1., 0., 0., 0.],\n",
              "         [0., 1., 0., 0.],\n",
              "         [0., 0., 1., 0.],\n",
              "         [0., 0., 1., 0.],\n",
              "         [0., 0., 0., 1.]],\n",
              "\n",
              "        [[0., 1., 0., 0.],\n",
              "         [0., 0., 0., 1.],\n",
              "         [0., 0., 1., 0.],\n",
              "         [0., 0., 1., 0.],\n",
              "         [0., 0., 1., 0.]],\n",
              "\n",
              "        [[0., 0., 1., 0.],\n",
              "         [0., 0., 1., 0.],\n",
              "         [0., 1., 0., 0.],\n",
              "         [0., 1., 0., 0.],\n",
              "         [0., 0., 1., 0.]]])"
            ]
          },
          "metadata": {},
          "execution_count": 14
        }
      ]
    },
    {
      "cell_type": "code",
      "source": [
        "# (batch size, seq length(time step), input_size)\n",
        "input_data.size()"
      ],
      "metadata": {
        "colab": {
          "base_uri": "https://localhost:8080/"
        },
        "id": "_6bvGHKf4E_I",
        "outputId": "9c9047e6-e863-4994-e068-9652b3fcdd38"
      },
      "execution_count": null,
      "outputs": [
        {
          "output_type": "execute_result",
          "data": {
            "text/plain": [
              "torch.Size([3, 5, 4])"
            ]
          },
          "metadata": {},
          "execution_count": 15
        }
      ]
    },
    {
      "cell_type": "markdown",
      "source": [
        "## 1. RNN 계열 모델 정의\n",
        "1. Vanila RNN\n",
        "2. LSTM\n",
        "\n",
        "\n"
      ],
      "metadata": {
        "id": "pr4cVyyECAHS"
      }
    },
    {
      "cell_type": "markdown",
      "source": [
        "### 2.1 Vanila RNN\n",
        "<img src = \"https://drive.google.com/uc?id=1jT028MtyD7Gg4yEFsDJkwaRnK9bJx1u2\" height=350 width=500>\n",
        "\n",
        "#### `torch.nn.RNN(input_size, hidden_size, batch_first)`\n",
        "- [pytorch document](https://pytorch.org/docs/stable/generated/torch.nn.RNN.html)\n",
        "- `input_size`: 입력해 주는 특성 값의 개수\n",
        "- `hidden_size`: hidden state의 사이즈 지정. 보통 arbitrary 함.\n",
        "- `batch_first`: 입력으로 받는 데이터의 shape중 첫 번째 차원을 batch로 간주할 것인지를 설정.\n",
        "  - True: (batch, seq, feature)\n",
        "  - False: (seq, batch, feature)"
      ],
      "metadata": {
        "id": "wIirfVJVPJx6"
      }
    },
    {
      "cell_type": "code",
      "source": [
        "# declare dimension\n",
        "input_size = 4\n",
        "hidden_size = 3\n",
        "\n",
        "# declare RNN\n",
        "rnn = torch.nn.RNN(input_size, hidden_size, batch_first=True)  # 처음에 batch_size or seq_length"
      ],
      "metadata": {
        "id": "bwHrWk8USK3z"
      },
      "execution_count": null,
      "outputs": []
    },
    {
      "cell_type": "code",
      "metadata": {
        "id": "h2BSYqahNkat",
        "outputId": "fd6db130-9046-45a0-c5b3-7d583700ad37",
        "colab": {
          "base_uri": "https://localhost:8080/"
        }
      },
      "source": [
        "# check output\n",
        "outputs, _status = rnn(input_data)\n",
        "\n",
        "print(\"--------------모든 time steps의 hidden states-----------------\")\n",
        "print(\"outputs:\\n\", outputs)\n",
        "print(\"outputs size:\",outputs.size()) # (5번의 time step동안 3차원은 은닉 상태가 출력됨)*단어 3개\n",
        "# shape : (3, 5, 3)\n",
        "# (batch_size, seq_length, hidden_dim)\n",
        "print(\"--------------마지막 시점의 hidden state-----------------\")\n",
        "print(\"hidden state:\\n\", _status) # 마지막 시점의 hidden state\n",
        "print(\"hidden state size:\",_status.size())\n",
        "# shape: (1, 3, 3)\n",
        "# (num_layers, batch_size, hidden_dim)"
      ],
      "execution_count": null,
      "outputs": [
        {
          "output_type": "stream",
          "name": "stdout",
          "text": [
            "--------------모든 time steps의 hidden states-----------------\n",
            "outputs:\n",
            " tensor([[[ 0.1875, -0.4714, -0.0445],\n",
            "         [ 0.4501, -0.1990, -0.5874],\n",
            "         [ 0.0320, -0.6834, -0.1961],\n",
            "         [-0.1507, -0.6082,  0.0226],\n",
            "         [ 0.4725, -0.5835, -0.5305]],\n",
            "\n",
            "        [[ 0.4068, -0.2182, -0.5961],\n",
            "         [ 0.6644, -0.6627, -0.7026],\n",
            "         [ 0.1136, -0.6730, -0.2026],\n",
            "         [-0.1383, -0.6211,  0.0037],\n",
            "         [-0.2434, -0.5987,  0.0876]],\n",
            "\n",
            "        [[-0.2408, -0.6675, -0.0191],\n",
            "         [-0.2470, -0.5769,  0.1093],\n",
            "         [ 0.3586, -0.0955, -0.4956],\n",
            "         [ 0.5793, -0.2456, -0.6877],\n",
            "         [ 0.0864, -0.6919, -0.2338]]], grad_fn=<TransposeBackward1>)\n",
            "outputs size: torch.Size([3, 5, 3])\n",
            "--------------마지막 시점의 hidden state-----------------\n",
            "hidden state:\n",
            " tensor([[[ 0.4725, -0.5835, -0.5305],\n",
            "         [-0.2434, -0.5987,  0.0876],\n",
            "         [ 0.0864, -0.6919, -0.2338]]], grad_fn=<StackBackward0>)\n",
            "hidden state size: torch.Size([1, 3, 3])\n"
          ]
        }
      ]
    },
    {
      "cell_type": "markdown",
      "source": [
        "## 2.2 LSTM\n",
        "<img src = \"https://drive.google.com/uc?id=1sVemx9k_QiN4pRAH_ZCE-D6mGaW4hlar\" height=350 width=500>\n",
        "\n",
        "\n",
        "#### `torch.nn.LSTM(input_size, hidden_size, batch_first)`\n",
        "- [pytorch document](https://pytorch.org/docs/stable/generated/torch.nn.RNN.html)\n",
        "- `input_size`: 입력해 주는 특성 값의 개수\n",
        "- `hidden_size`: hidden state의 사이즈 지정. 보통 arbitrary 함.\n",
        "- `batch_first`: 입력으로 받는 데이터의 shape중 첫 번째 차원을 batch로 간주할 것인지를 설정.\n",
        "  - True: (batch, seq, feature)\n",
        "  - False: (seq, batch, feature)"
      ],
      "metadata": {
        "id": "WP3cdKu3Pztc"
      }
    },
    {
      "cell_type": "code",
      "metadata": {
        "id": "jiHML7PAOl7W",
        "outputId": "07b7a471-e801-474e-e85a-60d636372a4f",
        "colab": {
          "base_uri": "https://localhost:8080/"
        }
      },
      "source": [
        "lstm = torch.nn.LSTM(input_size, hidden_size, batch_first=True)\n",
        "outputs, _status = lstm(input_data)\n",
        "print(outputs)\n",
        "print(outputs.size())\n",
        "print()\n",
        "\n",
        "print(_status[0])\n",
        "print(_status[0].shape)"
      ],
      "execution_count": null,
      "outputs": [
        {
          "output_type": "stream",
          "name": "stdout",
          "text": [
            "tensor([[[ 7.7160e-02,  4.8831e-02, -1.9702e-01],\n",
            "         [ 2.3895e-01, -7.7501e-02, -3.6145e-01],\n",
            "         [ 2.8074e-01, -3.8985e-02, -4.9372e-01],\n",
            "         [ 3.1611e-01, -2.2627e-02, -5.2396e-01],\n",
            "         [ 5.0144e-01,  2.8663e-02, -4.3278e-01]],\n",
            "\n",
            "        [[ 1.9160e-01, -1.0361e-01, -2.4555e-01],\n",
            "         [ 3.9922e-01, -4.2685e-04, -3.0189e-01],\n",
            "         [ 3.2583e-01, -4.2673e-02, -4.2808e-01],\n",
            "         [ 3.4120e-01, -3.5685e-02, -4.9169e-01],\n",
            "         [ 3.5151e-01, -2.8928e-02, -5.2391e-01]],\n",
            "\n",
            "        [[ 1.3010e-01, -3.0247e-02, -2.8644e-01],\n",
            "         [ 2.2089e-01, -2.2524e-02, -4.2176e-01],\n",
            "         [ 3.2510e-01, -8.9915e-02, -4.3805e-01],\n",
            "         [ 3.6905e-01, -1.1317e-01, -4.8559e-01],\n",
            "         [ 3.5704e-01, -5.3226e-02, -5.8023e-01]]],\n",
            "       grad_fn=<TransposeBackward0>)\n",
            "torch.Size([3, 5, 3])\n",
            "\n",
            "tensor([[[ 0.5014,  0.0287, -0.4328],\n",
            "         [ 0.3515, -0.0289, -0.5239],\n",
            "         [ 0.3570, -0.0532, -0.5802]]], grad_fn=<StackBackward0>)\n",
            "torch.Size([1, 3, 3])\n"
          ]
        }
      ]
    }
  ]
}